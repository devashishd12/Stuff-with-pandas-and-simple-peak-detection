{
 "cells": [
  {
   "cell_type": "code",
   "execution_count": 166,
   "metadata": {
    "collapsed": false
   },
   "outputs": [],
   "source": [
    "import pandas as pd\n",
    "import matplotlib.pyplot as plt\n",
    "import numpy as np\n",
    "from numpy import Inf\n",
    "import urllib2\n",
    "import sys"
   ]
  },
  {
   "cell_type": "markdown",
   "metadata": {},
   "source": [
    "### Read using pandas. "
   ]
  },
  {
   "cell_type": "code",
   "execution_count": 167,
   "metadata": {
    "collapsed": false
   },
   "outputs": [
    {
     "data": {
      "text/html": [
       "<div>\n",
       "<table border=\"1\" class=\"dataframe\">\n",
       "  <thead>\n",
       "    <tr style=\"text-align: right;\">\n",
       "      <th></th>\n",
       "      <th>Team</th>\n",
       "      <th>FDCOUK</th>\n",
       "      <th>City</th>\n",
       "      <th>Stadium</th>\n",
       "      <th>Capacity</th>\n",
       "      <th>Latitude</th>\n",
       "      <th>Longitude</th>\n",
       "      <th>Country</th>\n",
       "    </tr>\n",
       "  </thead>\n",
       "  <tbody>\n",
       "    <tr>\n",
       "      <th>0</th>\n",
       "      <td>Arsenal</td>\n",
       "      <td>Arsenal</td>\n",
       "      <td>London</td>\n",
       "      <td>Emirates Stadium</td>\n",
       "      <td>60361</td>\n",
       "      <td>51.555000</td>\n",
       "      <td>-0.108611</td>\n",
       "      <td>England</td>\n",
       "    </tr>\n",
       "    <tr>\n",
       "      <th>1</th>\n",
       "      <td>Aston Villa</td>\n",
       "      <td>Aston Villa</td>\n",
       "      <td>Birmingham</td>\n",
       "      <td>Villa Park</td>\n",
       "      <td>42785</td>\n",
       "      <td>52.509167</td>\n",
       "      <td>-1.884722</td>\n",
       "      <td>England</td>\n",
       "    </tr>\n",
       "    <tr>\n",
       "      <th>2</th>\n",
       "      <td>Blackburn Rovers</td>\n",
       "      <td>Blackburn</td>\n",
       "      <td>Blackburn</td>\n",
       "      <td>Ewood Park</td>\n",
       "      <td>31154</td>\n",
       "      <td>53.728611</td>\n",
       "      <td>-2.489167</td>\n",
       "      <td>England</td>\n",
       "    </tr>\n",
       "    <tr>\n",
       "      <th>3</th>\n",
       "      <td>Bolton Wanderers</td>\n",
       "      <td>Bolton</td>\n",
       "      <td>Bolton</td>\n",
       "      <td>Reebok Stadium</td>\n",
       "      <td>28100</td>\n",
       "      <td>53.580556</td>\n",
       "      <td>-2.535556</td>\n",
       "      <td>England</td>\n",
       "    </tr>\n",
       "    <tr>\n",
       "      <th>4</th>\n",
       "      <td>Chelsea</td>\n",
       "      <td>Chelsea</td>\n",
       "      <td>London</td>\n",
       "      <td>Stamford Bridge</td>\n",
       "      <td>42449</td>\n",
       "      <td>51.481667</td>\n",
       "      <td>-0.191111</td>\n",
       "      <td>England</td>\n",
       "    </tr>\n",
       "  </tbody>\n",
       "</table>\n",
       "</div>"
      ],
      "text/plain": [
       "                Team       FDCOUK         City            Stadium  Capacity  \\\n",
       "0           Arsenal       Arsenal      London   Emirates Stadium      60361   \n",
       "1       Aston Villa   Aston Villa  Birmingham         Villa Park      42785   \n",
       "2  Blackburn Rovers     Blackburn   Blackburn         Ewood Park      31154   \n",
       "3  Bolton Wanderers        Bolton      Bolton     Reebok Stadium      28100   \n",
       "4           Chelsea       Chelsea      London    Stamford Bridge      42449   \n",
       "\n",
       "    Latitude  Longitude  Country  \n",
       "0  51.555000  -0.108611  England  \n",
       "1  52.509167  -1.884722  England  \n",
       "2  53.728611  -2.489167  England  \n",
       "3  53.580556  -2.535556  England  \n",
       "4  51.481667  -0.191111  England  "
      ]
     },
     "execution_count": 167,
     "metadata": {},
     "output_type": "execute_result"
    }
   ],
   "source": [
    "#Data taken from url: https://github.com/jokecamp/FootballData/blob/master/other/stadiums-with-GPS-coordinates.csv\n",
    "inp = pd.read_csv('./FootballData-master/other/stadiums-with-GPS-coordinates.csv')\n",
    "inp.head()"
   ]
  },
  {
   "cell_type": "code",
   "execution_count": 168,
   "metadata": {
    "collapsed": false
   },
   "outputs": [],
   "source": [
    "city = inp['City']\n",
    "stadium = inp['Stadium']\n",
    "dat = zip(city,stadium)"
   ]
  },
  {
   "cell_type": "code",
   "execution_count": 173,
   "metadata": {
    "collapsed": false
   },
   "outputs": [],
   "source": [
    "dict = {}\n",
    "for l in dat:\n",
    "    if dict.has_key(l[0]):\n",
    "        dict[l[0]].append(l[1])\n",
    "    else:\n",
    "        dict[l[0]]=[l[1]]\n",
    "cities = dict.keys()\n",
    "counts = map(lambda l: len(l[1]),dict.items())"
   ]
  },
  {
   "cell_type": "code",
   "execution_count": 174,
   "metadata": {
    "collapsed": false
   },
   "outputs": [
    {
     "data": {
      "image/png": "[encoded data removed]",
      "text/plain": [
       "<matplotlib.figure.Figure at 0x7fc5a3c98f90>"
      ]
     },
     "metadata": {},
     "output_type": "display_data"
    }
   ],
   "source": [
    "n = np.arange(len(cities))\n",
    "with plt.xkcd():\n",
    "    plt.plot(counts)\n",
    "    plt.xlabel('Cities')\n",
    "    plt.ylabel('No. of stadiums')"
   ]
  },
  {
   "cell_type": "markdown",
   "metadata": {},
   "source": [
    "### Peak detection. (Just for the kicks)"
   ]
  },
  {
   "cell_type": "code",
   "execution_count": 175,
   "metadata": {
    "collapsed": false
   },
   "outputs": [],
   "source": [
    "def peakdet(v, delta, x = None):\n",
    "    \"\"\"Using a sliding window approach here. \n",
    "       Parameters: v (data)\n",
    "                   delta (difference)\n",
    "                   x (x axis)\n",
    "       Returns: Some maximas and minimas\"\"\"\n",
    "    maxtab = []\n",
    "    mintab = []\n",
    "       \n",
    "    if x is None:\n",
    "        x = np.arange(len(v))\n",
    "    \n",
    "    v = np.asarray(v)\n",
    "    \n",
    "    if len(v) != len(x):\n",
    "        sys.exit('Input vectors v and x must have same length')\n",
    "    \n",
    "    if not np.isscalar(delta):\n",
    "        sys.exit('Input argument delta must be a scalar')\n",
    "    \n",
    "    if delta <= 0:\n",
    "        sys.exit('Input argument delta must be positive')\n",
    "    \n",
    "    mn, mx = Inf, -Inf\n",
    "    mnpos, mxpos = np.NaN, np.NaN\n",
    "    \n",
    "    lookformax = True\n",
    "    \n",
    "    for i in np.arange(len(v)):\n",
    "        this = v[i]\n",
    "        if this > mx:\n",
    "            mx = this\n",
    "            mxpos = x[i]\n",
    "        if this < mn:\n",
    "            mn = this\n",
    "            mnpos = x[i]\n",
    "        \n",
    "        if lookformax:\n",
    "            if this < mx-delta:\n",
    "                maxtab.append((mxpos, mx))\n",
    "                mn = this\n",
    "                mnpos = x[i]\n",
    "                lookformax = False\n",
    "        else:\n",
    "            if this > mn+delta:\n",
    "                mintab.append((mnpos, mn))\n",
    "                mx = this\n",
    "                mxpos = x[i]\n",
    "                lookformax = True\n",
    "\n",
    "    return np.array(maxtab), np.array(mintab)"
   ]
  },
  {
   "cell_type": "markdown",
   "metadata": {},
   "source": [
    "### Let's see how it works."
   ]
  },
  {
   "cell_type": "code",
   "execution_count": 191,
   "metadata": {
    "collapsed": false
   },
   "outputs": [
    {
     "name": "stdout",
     "output_type": "stream",
     "text": [
      "Dundee :['Dens Park', 'Tannadice Park']\n",
      "Edinburgh :['Easter Road', 'Tynecastle Stadium']\n",
      "Madrid :['Vicente Calder\\xc3\\xb3n', 'Campo de Vallecas', 'Santiago Bernab\\xc3\\xa9u']\n",
      "Hamburg :['Imtech Arena', 'Millerntor-Stadion']\n",
      "Liverpool :['Goodison Park', 'Anfield']\n",
      "Valencia :['Ciutat de Val\\xc3\\xa8ncia', 'Mestalla']\n",
      "Seville :['Benito Villamar\\xc3\\xadn', 'Ram\\xc3\\xb3n S\\xc3\\xa1nchez Pizju\\xc3\\xa1n']\n",
      "Glasgow :['Celtic Park', 'Firhill Stadium', 'Ibrox Stadium']\n",
      "Birmingham :['Villa Park', \"St Andrew's Stadium\"]\n",
      "London :['Emirates Stadium', 'Stamford Bridge', 'Craven Cottage', 'Loftus Road', 'White Hart Lane', 'Selhurst Park', 'The Den', 'Boleyn Ground']\n"
     ]
    },
    {
     "data": {
      "image/png": "[encoded data removed]",
      "text/plain": [
       "<matplotlib.figure.Figure at 0x7fc5a9a9aa10>"
      ]
     },
     "metadata": {},
     "output_type": "display_data"
    }
   ],
   "source": [
    "maxtab, mintab = peakdet(counts,0.5) #Still have to adjust for delta. P.S. Minimas aren't really there.\n",
    "for x in maxtab[:,0]: print '%s :%s' %(cities[x].strip(),map(lambda s: s.strip(),dict[cities[x]])) #Special characters screwed up...\n",
    "with plt.xkcd():\n",
    "    plt.plot(counts)\n",
    "    plt.scatter(maxtab[:,0], maxtab[:,1], color='red')\n",
    "    plt.xlabel('Cities')\n",
    "    plt.ylabel('No. of stadiums')"
   ]
  }
 ],
 "metadata": {
  "kernelspec": {
   "display_name": "Python 2",
   "language": "python",
   "name": "python2"
  },
  "language_info": {
   "codemirror_mode": {
    "name": "ipython",
    "version": 2
   },
   "file_extension": ".py",
   "mimetype": "text/x-python",
   "name": "python",
   "nbconvert_exporter": "python",
   "pygments_lexer": "ipython2",
   "version": "2.7.11"
  }
 },
 "nbformat": 4,
 "nbformat_minor": 0
}
